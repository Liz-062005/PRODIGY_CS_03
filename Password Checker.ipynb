{
  "cells": [
    {
      "cell_type": "code",
      "execution_count": null,
      "metadata": {
        "colab": {
          "base_uri": "https://localhost:8080/"
        },
        "id": "mz4BnX99nTCb",
        "outputId": "1a493fb5-0d73-47c5-f0c7-0cf5ee10ee67"
      },
      "outputs": [
        {
          "name": "stdout",
          "output_type": "stream",
          "text": [
            "Enter your password to test: 12abc7%/ki9\n",
            "\n",
            "Password Strength: Moderate password ⚠️\n",
            "\n",
            "Suggestions:\n",
            "- Add at least one uppercase letter (A-Z).\n"
          ]
        }
      ],
      "source": [
        "import re\n",
        "\n",
        "def check_password_strength(password):\n",
        "    strength = 0\n",
        "    feedback = []\n",
        "\n",
        "    # Length check\n",
        "    if len(password) >= 8:\n",
        "        strength += 1\n",
        "    else:\n",
        "        feedback.append(\"Password should be at least 8 characters long.\")\n",
        "\n",
        "    # Uppercase check\n",
        "    if re.search(r\"[A-Z]\", password):\n",
        "        strength += 1\n",
        "    else:\n",
        "        feedback.append(\"Add at least one uppercase letter (A-Z).\")\n",
        "\n",
        "    # Lowercase check\n",
        "    if re.search(r\"[a-z]\", password):\n",
        "        strength += 1\n",
        "    else:\n",
        "        feedback.append(\"Add at least one lowercase letter (a-z).\")\n",
        "\n",
        "    # Digit check\n",
        "    if re.search(r\"[0-9]\", password):\n",
        "        strength += 1\n",
        "    else:\n",
        "        feedback.append(\"Add at least one digit (0-9).\")\n",
        "\n",
        "    # Special character check\n",
        "    if re.search(r\"[!@#$%^&*(),.?\\\":{}|<>]\", password):\n",
        "        strength += 1\n",
        "    else:\n",
        "        feedback.append(\"Add at least one special character (!@#$%^&* etc.).\")\n",
        "\n",
        "    # Final assessment\n",
        "    if strength == 5:\n",
        "        return \"Strong password ✅\", feedback\n",
        "    elif strength >= 3:\n",
        "        return \"Moderate password ⚠️\", feedback\n",
        "    else:\n",
        "        return \"Weak password ❌\", feedback\n",
        "\n",
        "# Test the function with user input\n",
        "password = input(\"Enter your password to test: \")\n",
        "strength, feedback = check_password_strength(password)\n",
        "\n",
        "print(\"\\nPassword Strength:\", strength)\n",
        "print(\"\\nSuggestions:\")\n",
        "for tip in feedback:\n",
        "    print(\"-\", tip)"
      ]
    },
    {
      "cell_type": "code",
      "execution_count": null,
      "metadata": {
        "colab": {
          "base_uri": "https://localhost:8080/"
        },
        "id": "HCIZTeE1oMFp",
        "outputId": "38d3cfc5-936f-41f9-b9a1-f4e7c9b403e1"
      },
      "outputs": [
        {
          "name": "stdout",
          "output_type": "stream",
          "text": [
            "Enter your password to test: as5&*XCVG9/2bhjy\n",
            "\n",
            "Password Strength: Strong password ✅\n",
            "\n",
            "Suggestions:\n"
          ]
        }
      ],
      "source": [
        "import re\n",
        "\n",
        "def check_password_strength(password):\n",
        "    strength = 0\n",
        "    feedback = []\n",
        "\n",
        "    # Length check\n",
        "    if len(password) >= 8:\n",
        "        strength += 1\n",
        "    else:\n",
        "        feedback.append(\"Password should be at least 8 characters long.\")\n",
        "\n",
        "    # Uppercase check\n",
        "    if re.search(r\"[A-Z]\", password):\n",
        "        strength += 1\n",
        "    else:\n",
        "        feedback.append(\"Add at least one uppercase letter (A-Z).\")\n",
        "\n",
        "    # Lowercase check\n",
        "    if re.search(r\"[a-z]\", password):\n",
        "        strength += 1\n",
        "    else:\n",
        "        feedback.append(\"Add at least one lowercase letter (a-z).\")\n",
        "\n",
        "    # Digit check\n",
        "    if re.search(r\"[0-9]\", password):\n",
        "        strength += 1\n",
        "    else:\n",
        "        feedback.append(\"Add at least one digit (0-9).\")\n",
        "\n",
        "    # Special character check\n",
        "    if re.search(r\"[!@#$%^&*(),.?\\\":{}|<>]\", password):\n",
        "        strength += 1\n",
        "    else:\n",
        "        feedback.append(\"Add at least one special character (!@#$%^&* etc.).\")\n",
        "\n",
        "    # Final assessment\n",
        "    if strength == 5:\n",
        "        return \"Strong password ✅\", feedback\n",
        "    elif strength >= 3:\n",
        "        return \"Moderate password ⚠️\", feedback\n",
        "    else:\n",
        "        return \"Weak password ❌\", feedback\n",
        "\n",
        "# Test the function with user input\n",
        "password = input(\"Enter your password to test: \")\n",
        "strength, feedback = check_password_strength(password)\n",
        "\n",
        "print(\"\\nPassword Strength:\", strength)\n",
        "print(\"\\nSuggestions:\")\n",
        "for tip in feedback:\n",
        "    print(\"-\", tip)"
      ]
    }
  ],
  "metadata": {
    "colab": {
      "provenance": []
    },
    "kernelspec": {
      "display_name": "Python 3",
      "name": "python3"
    },
    "language_info": {
      "name": "python"
    }
  },
  "nbformat": 4,
  "nbformat_minor": 0
}
